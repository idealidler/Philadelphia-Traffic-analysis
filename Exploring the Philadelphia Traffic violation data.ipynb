{
 "cells": [
  {
   "cell_type": "code",
   "execution_count": 1,
   "metadata": {},
   "outputs": [],
   "source": [
    "import pandas as pd\n",
    "df = pd.read_csv('philly.csv')"
   ]
  },
  {
   "cell_type": "code",
   "execution_count": 2,
   "metadata": {},
   "outputs": [],
   "source": [
    "df.drop(df.index[8344:9592],axis = 0, inplace = True)"
   ]
  },
  {
   "cell_type": "code",
   "execution_count": 3,
   "metadata": {},
   "outputs": [
    {
     "data": {
      "text/html": [
       "<div>\n",
       "<style scoped>\n",
       "    .dataframe tbody tr th:only-of-type {\n",
       "        vertical-align: middle;\n",
       "    }\n",
       "\n",
       "    .dataframe tbody tr th {\n",
       "        vertical-align: top;\n",
       "    }\n",
       "\n",
       "    .dataframe thead th {\n",
       "        text-align: right;\n",
       "    }\n",
       "</style>\n",
       "<table border=\"1\" class=\"dataframe\">\n",
       "  <thead>\n",
       "    <tr style=\"text-align: right;\">\n",
       "      <th></th>\n",
       "      <th>raw_row_number</th>\n",
       "      <th>date</th>\n",
       "      <th>time</th>\n",
       "      <th>location</th>\n",
       "      <th>district</th>\n",
       "      <th>service_area</th>\n",
       "      <th>subject_age</th>\n",
       "      <th>subject_race</th>\n",
       "      <th>subject_sex</th>\n",
       "      <th>type</th>\n",
       "      <th>arrest_made</th>\n",
       "      <th>contraband_found</th>\n",
       "      <th>frisk_performed</th>\n",
       "      <th>search_conducted</th>\n",
       "      <th>search_person</th>\n",
       "      <th>search_vehicle</th>\n",
       "      <th>raw_race</th>\n",
       "      <th>raw_individual_contraband</th>\n",
       "      <th>raw_vehicle_contraband</th>\n",
       "    </tr>\n",
       "  </thead>\n",
       "  <tbody>\n",
       "    <tr>\n",
       "      <th>0</th>\n",
       "      <td>411981</td>\n",
       "      <td>1/1/2014</td>\n",
       "      <td>1:14:00</td>\n",
       "      <td>NaN</td>\n",
       "      <td>19.0</td>\n",
       "      <td>191</td>\n",
       "      <td>31.0</td>\n",
       "      <td>black</td>\n",
       "      <td>male</td>\n",
       "      <td>pedestrian</td>\n",
       "      <td>True</td>\n",
       "      <td>True</td>\n",
       "      <td>False</td>\n",
       "      <td>True</td>\n",
       "      <td>True</td>\n",
       "      <td>False</td>\n",
       "      <td>Black - Non-Latino</td>\n",
       "      <td>True</td>\n",
       "      <td>False</td>\n",
       "    </tr>\n",
       "    <tr>\n",
       "      <th>1</th>\n",
       "      <td>407442</td>\n",
       "      <td>1/1/2014</td>\n",
       "      <td>1:57:00</td>\n",
       "      <td>NaN</td>\n",
       "      <td>12.0</td>\n",
       "      <td>121</td>\n",
       "      <td>21.0</td>\n",
       "      <td>black</td>\n",
       "      <td>male</td>\n",
       "      <td>pedestrian</td>\n",
       "      <td>True</td>\n",
       "      <td>False</td>\n",
       "      <td>True</td>\n",
       "      <td>True</td>\n",
       "      <td>True</td>\n",
       "      <td>False</td>\n",
       "      <td>Black - Non-Latino</td>\n",
       "      <td>False</td>\n",
       "      <td>False</td>\n",
       "    </tr>\n",
       "    <tr>\n",
       "      <th>2</th>\n",
       "      <td>217556</td>\n",
       "      <td>1/1/2014</td>\n",
       "      <td>3:30:00</td>\n",
       "      <td>3400 BLOCK SPRUCE ST</td>\n",
       "      <td>18.0</td>\n",
       "      <td>183</td>\n",
       "      <td>24.0</td>\n",
       "      <td>black</td>\n",
       "      <td>male</td>\n",
       "      <td>pedestrian</td>\n",
       "      <td>False</td>\n",
       "      <td>NaN</td>\n",
       "      <td>False</td>\n",
       "      <td>False</td>\n",
       "      <td>False</td>\n",
       "      <td>False</td>\n",
       "      <td>Black - Non-Latino</td>\n",
       "      <td>False</td>\n",
       "      <td>False</td>\n",
       "    </tr>\n",
       "    <tr>\n",
       "      <th>3</th>\n",
       "      <td>217557</td>\n",
       "      <td>1/1/2014</td>\n",
       "      <td>3:40:00</td>\n",
       "      <td>3400 BLOCK SPRUCE ST</td>\n",
       "      <td>18.0</td>\n",
       "      <td>183</td>\n",
       "      <td>20.0</td>\n",
       "      <td>black</td>\n",
       "      <td>male</td>\n",
       "      <td>pedestrian</td>\n",
       "      <td>False</td>\n",
       "      <td>NaN</td>\n",
       "      <td>False</td>\n",
       "      <td>False</td>\n",
       "      <td>False</td>\n",
       "      <td>False</td>\n",
       "      <td>Black - Non-Latino</td>\n",
       "      <td>False</td>\n",
       "      <td>False</td>\n",
       "    </tr>\n",
       "    <tr>\n",
       "      <th>4</th>\n",
       "      <td>230988</td>\n",
       "      <td>1/1/2014</td>\n",
       "      <td>8:30:00</td>\n",
       "      <td>N 56TH ST / UPLAND WAY</td>\n",
       "      <td>19.0</td>\n",
       "      <td>193</td>\n",
       "      <td>31.0</td>\n",
       "      <td>black</td>\n",
       "      <td>male</td>\n",
       "      <td>vehicular</td>\n",
       "      <td>False</td>\n",
       "      <td>NaN</td>\n",
       "      <td>False</td>\n",
       "      <td>False</td>\n",
       "      <td>False</td>\n",
       "      <td>False</td>\n",
       "      <td>Black - Non-Latino</td>\n",
       "      <td>False</td>\n",
       "      <td>False</td>\n",
       "    </tr>\n",
       "  </tbody>\n",
       "</table>\n",
       "</div>"
      ],
      "text/plain": [
       "  raw_row_number      date     time                location  district  \\\n",
       "0         411981  1/1/2014  1:14:00                     NaN      19.0   \n",
       "1         407442  1/1/2014  1:57:00                     NaN      12.0   \n",
       "2         217556  1/1/2014  3:30:00    3400 BLOCK SPRUCE ST      18.0   \n",
       "3         217557  1/1/2014  3:40:00    3400 BLOCK SPRUCE ST      18.0   \n",
       "4         230988  1/1/2014  8:30:00  N 56TH ST / UPLAND WAY      19.0   \n",
       "\n",
       "  service_area  subject_age subject_race subject_sex        type arrest_made  \\\n",
       "0          191         31.0        black        male  pedestrian        True   \n",
       "1          121         21.0        black        male  pedestrian        True   \n",
       "2          183         24.0        black        male  pedestrian       False   \n",
       "3          183         20.0        black        male  pedestrian       False   \n",
       "4          193         31.0        black        male   vehicular       False   \n",
       "\n",
       "  contraband_found frisk_performed search_conducted search_person  \\\n",
       "0             True           False             True          True   \n",
       "1            False            True             True          True   \n",
       "2              NaN           False            False         False   \n",
       "3              NaN           False            False         False   \n",
       "4              NaN           False            False         False   \n",
       "\n",
       "  search_vehicle            raw_race raw_individual_contraband  \\\n",
       "0          False  Black - Non-Latino                      True   \n",
       "1          False  Black - Non-Latino                     False   \n",
       "2          False  Black - Non-Latino                     False   \n",
       "3          False  Black - Non-Latino                     False   \n",
       "4          False  Black - Non-Latino                     False   \n",
       "\n",
       "  raw_vehicle_contraband  \n",
       "0                  False  \n",
       "1                  False  \n",
       "2                  False  \n",
       "3                  False  \n",
       "4                  False  "
      ]
     },
     "execution_count": 3,
     "metadata": {},
     "output_type": "execute_result"
    }
   ],
   "source": [
    "df.head()"
   ]
  },
  {
   "cell_type": "code",
   "execution_count": 4,
   "metadata": {},
   "outputs": [
    {
     "data": {
      "text/plain": [
       "raw_row_number                  0\n",
       "date                            0\n",
       "time                            0\n",
       "location                      445\n",
       "district                        0\n",
       "service_area                    0\n",
       "subject_age                    63\n",
       "subject_race                    0\n",
       "subject_sex                     0\n",
       "type                            0\n",
       "arrest_made                     0\n",
       "contraband_found             7795\n",
       "frisk_performed                 0\n",
       "search_conducted                0\n",
       "search_person                   0\n",
       "search_vehicle                  0\n",
       "raw_race                        0\n",
       "raw_individual_contraband       0\n",
       "raw_vehicle_contraband          0\n",
       "dtype: int64"
      ]
     },
     "execution_count": 4,
     "metadata": {},
     "output_type": "execute_result"
    }
   ],
   "source": [
    "df.isna().sum()"
   ]
  },
  {
   "cell_type": "code",
   "execution_count": 5,
   "metadata": {},
   "outputs": [],
   "source": [
    "df = df.dropna(subset = ['location'])"
   ]
  },
  {
   "cell_type": "code",
   "execution_count": 6,
   "metadata": {},
   "outputs": [],
   "source": [
    "df.drop(['contraband_found','raw_row_number'], axis =1, inplace = True)"
   ]
  },
  {
   "cell_type": "code",
   "execution_count": 7,
   "metadata": {},
   "outputs": [],
   "source": [
    "df.reset_index(drop = True, inplace = True)"
   ]
  },
  {
   "cell_type": "code",
   "execution_count": 9,
   "metadata": {},
   "outputs": [
    {
     "data": {
      "text/plain": [
       "black                     5501\n",
       "white                     1497\n",
       "hispanic                   681\n",
       "asian/pacific islander     165\n",
       "unknown                     29\n",
       "other                       26\n",
       "Name: subject_race, dtype: int64"
      ]
     },
     "execution_count": 9,
     "metadata": {},
     "output_type": "execute_result"
    }
   ],
   "source": [
    "df['subject_race'].value_counts()"
   ]
  },
  {
   "cell_type": "code",
   "execution_count": 10,
   "metadata": {},
   "outputs": [
    {
     "data": {
      "text/plain": [
       "False    7439\n",
       "True      460\n",
       "Name: arrest_made, dtype: int64"
      ]
     },
     "execution_count": 10,
     "metadata": {},
     "output_type": "execute_result"
    }
   ],
   "source": [
    "df['arrest_made'].value_counts()"
   ]
  },
  {
   "cell_type": "code",
   "execution_count": 11,
   "metadata": {},
   "outputs": [
    {
     "data": {
      "text/plain": [
       "False    6834\n",
       "True     1065\n",
       "Name: frisk_performed, dtype: int64"
      ]
     },
     "execution_count": 11,
     "metadata": {},
     "output_type": "execute_result"
    }
   ],
   "source": [
    "df['frisk_performed'].value_counts()"
   ]
  },
  {
   "cell_type": "code",
   "execution_count": 145,
   "metadata": {},
   "outputs": [],
   "source": [
    "import matplotlib.pyplot as plt\n",
    "%matplotlib inline"
   ]
  },
  {
   "cell_type": "code",
   "execution_count": 137,
   "metadata": {},
   "outputs": [],
   "source": [
    "age_plot = df['subject_age'].value_counts(ascending = True)"
   ]
  },
  {
   "cell_type": "code",
   "execution_count": 140,
   "metadata": {},
   "outputs": [
    {
     "data": {
      "text/plain": [
       "<AxesSubplot:>"
      ]
     },
     "execution_count": 140,
     "metadata": {},
     "output_type": "execute_result"
    },
    {
     "data": {
      "image/png": "[encoded data removed]",
      "text/plain": [
       "<Figure size 1152x576 with 1 Axes>"
      ]
     },
     "metadata": {
      "needs_background": "light"
     },
     "output_type": "display_data"
    }
   ],
   "source": [
    "age_plot.plot(kind = 'bar', figsize = (16,8))"
   ]
  },
  {
   "cell_type": "code",
   "execution_count": 16,
   "metadata": {},
   "outputs": [
    {
     "data": {
      "text/plain": [
       "OLD YORK RD / W ROOSEVELT BLVD RAMP B    32\n",
       "5900 BLOCK MARKET ST                     25\n",
       "3200 BLOCK N BROAD ST                    24\n",
       "15000 BLOCK E ROOSEVELT BLVD             23\n",
       "5900 BLOCK E ROOSEVELT BLVD              22\n",
       "                                         ..\n",
       "900 BLOCK W BUTLER ST                     1\n",
       "5800 STREET/BALTIMORE AV                  1\n",
       "2700 BLOCK S FRONT ST                     1\n",
       "1200 BLOCK S PEACH ST                     1\n",
       "N 10TH ST / W LYCOMING ST                 1\n",
       "Name: location, Length: 4647, dtype: int64"
      ]
     },
     "execution_count": 16,
     "metadata": {},
     "output_type": "execute_result"
    }
   ],
   "source": [
    "df['location'].value_counts()"
   ]
  },
  {
   "cell_type": "code",
   "execution_count": 17,
   "metadata": {},
   "outputs": [],
   "source": [
    "df = df.astype({'frisk_performed':'int32',\n",
    "                'search_conducted':'int32',\n",
    "                'search_person':'int32',\n",
    "                'arrest_made':'int32',\n",
    "                'search_vehicle':'int32',\n",
    "                'subject_sex':'category',\n",
    "               'district':'category',\n",
    "               'service_area':'category',\n",
    "               'subject_race':'category',\n",
    "               'type':'category',\n",
    "               'raw_race':'category'})"
   ]
  },
  {
   "cell_type": "code",
   "execution_count": 18,
   "metadata": {},
   "outputs": [
    {
     "data": {
      "text/plain": [
       "date                           object\n",
       "time                           object\n",
       "location                       object\n",
       "district                     category\n",
       "service_area                 category\n",
       "subject_age                   float64\n",
       "subject_race                 category\n",
       "subject_sex                  category\n",
       "type                         category\n",
       "arrest_made                     int32\n",
       "frisk_performed                 int32\n",
       "search_conducted                int32\n",
       "search_person                   int32\n",
       "search_vehicle                  int32\n",
       "raw_race                     category\n",
       "raw_individual_contraband      object\n",
       "raw_vehicle_contraband         object\n",
       "dtype: object"
      ]
     },
     "execution_count": 18,
     "metadata": {},
     "output_type": "execute_result"
    }
   ],
   "source": [
    "df.dtypes"
   ]
  },
  {
   "cell_type": "code",
   "execution_count": 19,
   "metadata": {},
   "outputs": [],
   "source": [
    "df['subject_age'].fillna(method='ffill', inplace = True)"
   ]
  },
  {
   "cell_type": "code",
   "execution_count": 22,
   "metadata": {},
   "outputs": [],
   "source": [
    "male = df[df.subject_sex == 'male']"
   ]
  },
  {
   "cell_type": "code",
   "execution_count": 23,
   "metadata": {},
   "outputs": [],
   "source": [
    "female = df[df.subject_sex == 'female']"
   ]
  },
  {
   "cell_type": "code",
   "execution_count": 72,
   "metadata": {},
   "outputs": [
    {
     "data": {
      "text/plain": [
       "0    0.967761\n",
       "1    0.032239\n",
       "Name: arrest_made, dtype: float64"
      ]
     },
     "execution_count": 72,
     "metadata": {},
     "output_type": "execute_result"
    }
   ],
   "source": [
    "female.arrest_made.value_counts(normalize = True)"
   ]
  },
  {
   "cell_type": "code",
   "execution_count": 70,
   "metadata": {},
   "outputs": [
    {
     "data": {
      "text/plain": [
       "0    0.934769\n",
       "1    0.065231\n",
       "Name: arrest_made, dtype: float64"
      ]
     },
     "execution_count": 70,
     "metadata": {},
     "output_type": "execute_result"
    }
   ],
   "source": [
    "male.arrest_made.value_counts(normalize = True)"
   ]
  },
  {
   "cell_type": "code",
   "execution_count": 141,
   "metadata": {},
   "outputs": [],
   "source": [
    "male_frisk = male.frisk_performed.value_counts(normalize = True)"
   ]
  },
  {
   "cell_type": "code",
   "execution_count": 142,
   "metadata": {},
   "outputs": [
    {
     "data": {
      "image/png": "[encoded data removed]",
      "text/plain": [
       "<Figure size 432x288 with 1 Axes>"
      ]
     },
     "metadata": {
      "needs_background": "light"
     },
     "output_type": "display_data"
    }
   ],
   "source": [
    "male_frisk.plot(kind = 'bar')\n",
    "plt.show()"
   ]
  },
  {
   "cell_type": "code",
   "execution_count": 143,
   "metadata": {},
   "outputs": [],
   "source": [
    "female_frisk = female.frisk_performed.value_counts(normalize = True)"
   ]
  },
  {
   "cell_type": "code",
   "execution_count": 144,
   "metadata": {},
   "outputs": [
    {
     "data": {
      "text/plain": [
       "<AxesSubplot:>"
      ]
     },
     "execution_count": 144,
     "metadata": {},
     "output_type": "execute_result"
    },
    {
     "data": {
      "image/png": "[encoded data removed]",
      "text/plain": [
       "<Figure size 432x288 with 1 Axes>"
      ]
     },
     "metadata": {
      "needs_background": "light"
     },
     "output_type": "display_data"
    }
   ],
   "source": [
    "female_frisk.plot(kind = 'bar')"
   ]
  },
  {
   "cell_type": "code",
   "execution_count": 24,
   "metadata": {},
   "outputs": [
    {
     "data": {
      "text/plain": [
       "subject_sex\n",
       "female     54\n",
       "male      406\n",
       "Name: arrest_made, dtype: int32"
      ]
     },
     "execution_count": 24,
     "metadata": {},
     "output_type": "execute_result"
    }
   ],
   "source": [
    "df.groupby(['subject_sex']).arrest_made.sum()"
   ]
  },
  {
   "cell_type": "code",
   "execution_count": 26,
   "metadata": {},
   "outputs": [
    {
     "data": {
      "text/plain": [
       "subject_sex  subject_race          \n",
       "female       asian/pacific islander      0\n",
       "             black                      42\n",
       "             hispanic                    4\n",
       "             other                       0\n",
       "             unknown                     0\n",
       "             white                       8\n",
       "male         asian/pacific islander      3\n",
       "             black                     296\n",
       "             hispanic                   49\n",
       "             other                       1\n",
       "             unknown                     1\n",
       "             white                      56\n",
       "Name: arrest_made, dtype: int32"
      ]
     },
     "execution_count": 26,
     "metadata": {},
     "output_type": "execute_result"
    }
   ],
   "source": [
    "df.groupby(['subject_sex','subject_race']).arrest_made.sum()"
   ]
  },
  {
   "cell_type": "code",
   "execution_count": 27,
   "metadata": {},
   "outputs": [
    {
     "data": {
      "text/plain": [
       "subject_sex  subject_race          \n",
       "female       asian/pacific islander      0\n",
       "             black                      42\n",
       "             hispanic                    4\n",
       "             other                       0\n",
       "             unknown                     1\n",
       "             white                      17\n",
       "male         asian/pacific islander      9\n",
       "             black                     783\n",
       "             hispanic                   91\n",
       "             other                       3\n",
       "             unknown                     1\n",
       "             white                     114\n",
       "Name: frisk_performed, dtype: int32"
      ]
     },
     "execution_count": 27,
     "metadata": {},
     "output_type": "execute_result"
    }
   ],
   "source": [
    "df.groupby(['subject_sex','subject_race']).frisk_performed.sum()"
   ]
  },
  {
   "cell_type": "code",
   "execution_count": 28,
   "metadata": {},
   "outputs": [
    {
     "data": {
      "text/plain": [
       "black                     5501\n",
       "white                     1497\n",
       "hispanic                   681\n",
       "asian/pacific islander     165\n",
       "unknown                     29\n",
       "other                       26\n",
       "Name: subject_race, dtype: int64"
      ]
     },
     "execution_count": 28,
     "metadata": {},
     "output_type": "execute_result"
    }
   ],
   "source": [
    "df.subject_race.value_counts()"
   ]
  },
  {
   "cell_type": "code",
   "execution_count": 29,
   "metadata": {},
   "outputs": [
    {
     "data": {
      "text/html": [
       "<div>\n",
       "<style scoped>\n",
       "    .dataframe tbody tr th:only-of-type {\n",
       "        vertical-align: middle;\n",
       "    }\n",
       "\n",
       "    .dataframe tbody tr th {\n",
       "        vertical-align: top;\n",
       "    }\n",
       "\n",
       "    .dataframe thead th {\n",
       "        text-align: right;\n",
       "    }\n",
       "</style>\n",
       "<table border=\"1\" class=\"dataframe\">\n",
       "  <thead>\n",
       "    <tr style=\"text-align: right;\">\n",
       "      <th></th>\n",
       "      <th>date</th>\n",
       "      <th>time</th>\n",
       "      <th>location</th>\n",
       "      <th>district</th>\n",
       "      <th>service_area</th>\n",
       "      <th>subject_age</th>\n",
       "      <th>subject_race</th>\n",
       "      <th>subject_sex</th>\n",
       "      <th>type</th>\n",
       "      <th>arrest_made</th>\n",
       "      <th>frisk_performed</th>\n",
       "      <th>search_conducted</th>\n",
       "      <th>search_person</th>\n",
       "      <th>search_vehicle</th>\n",
       "      <th>raw_race</th>\n",
       "      <th>raw_individual_contraband</th>\n",
       "      <th>raw_vehicle_contraband</th>\n",
       "    </tr>\n",
       "  </thead>\n",
       "  <tbody>\n",
       "    <tr>\n",
       "      <th>0</th>\n",
       "      <td>1/1/2014</td>\n",
       "      <td>3:30:00</td>\n",
       "      <td>3400 BLOCK SPRUCE ST</td>\n",
       "      <td>18.0</td>\n",
       "      <td>183</td>\n",
       "      <td>24.0</td>\n",
       "      <td>black</td>\n",
       "      <td>male</td>\n",
       "      <td>pedestrian</td>\n",
       "      <td>0</td>\n",
       "      <td>0</td>\n",
       "      <td>0</td>\n",
       "      <td>0</td>\n",
       "      <td>0</td>\n",
       "      <td>Black - Non-Latino</td>\n",
       "      <td>False</td>\n",
       "      <td>False</td>\n",
       "    </tr>\n",
       "    <tr>\n",
       "      <th>1</th>\n",
       "      <td>1/1/2014</td>\n",
       "      <td>3:40:00</td>\n",
       "      <td>3400 BLOCK SPRUCE ST</td>\n",
       "      <td>18.0</td>\n",
       "      <td>183</td>\n",
       "      <td>20.0</td>\n",
       "      <td>black</td>\n",
       "      <td>male</td>\n",
       "      <td>pedestrian</td>\n",
       "      <td>0</td>\n",
       "      <td>0</td>\n",
       "      <td>0</td>\n",
       "      <td>0</td>\n",
       "      <td>0</td>\n",
       "      <td>Black - Non-Latino</td>\n",
       "      <td>False</td>\n",
       "      <td>False</td>\n",
       "    </tr>\n",
       "    <tr>\n",
       "      <th>158</th>\n",
       "      <td>1/2/2014</td>\n",
       "      <td>23:30:00</td>\n",
       "      <td>5600 BLOCK SPRUCE ST</td>\n",
       "      <td>18.0</td>\n",
       "      <td>182</td>\n",
       "      <td>34.0</td>\n",
       "      <td>black</td>\n",
       "      <td>male</td>\n",
       "      <td>vehicular</td>\n",
       "      <td>0</td>\n",
       "      <td>1</td>\n",
       "      <td>0</td>\n",
       "      <td>0</td>\n",
       "      <td>0</td>\n",
       "      <td>Black - Non-Latino</td>\n",
       "      <td>False</td>\n",
       "      <td>False</td>\n",
       "    </tr>\n",
       "    <tr>\n",
       "      <th>574</th>\n",
       "      <td>1/10/2014</td>\n",
       "      <td>16:40:00</td>\n",
       "      <td>5500 BLOCK SPRUCE ST</td>\n",
       "      <td>18.0</td>\n",
       "      <td>182</td>\n",
       "      <td>22.0</td>\n",
       "      <td>black</td>\n",
       "      <td>male</td>\n",
       "      <td>pedestrian</td>\n",
       "      <td>1</td>\n",
       "      <td>1</td>\n",
       "      <td>1</td>\n",
       "      <td>1</td>\n",
       "      <td>0</td>\n",
       "      <td>Black - Non-Latino</td>\n",
       "      <td>False</td>\n",
       "      <td>False</td>\n",
       "    </tr>\n",
       "    <tr>\n",
       "      <th>712</th>\n",
       "      <td>1/12/2014</td>\n",
       "      <td>1:29:00</td>\n",
       "      <td>6000 BLOCK SPRUCE ST</td>\n",
       "      <td>18.0</td>\n",
       "      <td>181</td>\n",
       "      <td>42.0</td>\n",
       "      <td>white</td>\n",
       "      <td>male</td>\n",
       "      <td>pedestrian</td>\n",
       "      <td>0</td>\n",
       "      <td>0</td>\n",
       "      <td>0</td>\n",
       "      <td>0</td>\n",
       "      <td>0</td>\n",
       "      <td>White - Non-Latino</td>\n",
       "      <td>False</td>\n",
       "      <td>False</td>\n",
       "    </tr>\n",
       "    <tr>\n",
       "      <th>716</th>\n",
       "      <td>1/12/2014</td>\n",
       "      <td>2:51:00</td>\n",
       "      <td>5300 BLOCK SPRUCE ST</td>\n",
       "      <td>18.0</td>\n",
       "      <td>182</td>\n",
       "      <td>27.0</td>\n",
       "      <td>black</td>\n",
       "      <td>male</td>\n",
       "      <td>pedestrian</td>\n",
       "      <td>0</td>\n",
       "      <td>0</td>\n",
       "      <td>0</td>\n",
       "      <td>0</td>\n",
       "      <td>0</td>\n",
       "      <td>Black - Non-Latino</td>\n",
       "      <td>False</td>\n",
       "      <td>False</td>\n",
       "    </tr>\n",
       "    <tr>\n",
       "      <th>2168</th>\n",
       "      <td>1/23/2014</td>\n",
       "      <td>11:25:00</td>\n",
       "      <td>5900 BLOCK SPRUCE ST</td>\n",
       "      <td>18.0</td>\n",
       "      <td>181</td>\n",
       "      <td>23.0</td>\n",
       "      <td>black</td>\n",
       "      <td>male</td>\n",
       "      <td>pedestrian</td>\n",
       "      <td>1</td>\n",
       "      <td>1</td>\n",
       "      <td>0</td>\n",
       "      <td>0</td>\n",
       "      <td>0</td>\n",
       "      <td>Black - Non-Latino</td>\n",
       "      <td>False</td>\n",
       "      <td>False</td>\n",
       "    </tr>\n",
       "    <tr>\n",
       "      <th>2312</th>\n",
       "      <td>1/23/2014</td>\n",
       "      <td>22:29:00</td>\n",
       "      <td>5200 BLOCK SPRUCE ST</td>\n",
       "      <td>18.0</td>\n",
       "      <td>182</td>\n",
       "      <td>27.0</td>\n",
       "      <td>black</td>\n",
       "      <td>male</td>\n",
       "      <td>vehicular</td>\n",
       "      <td>0</td>\n",
       "      <td>0</td>\n",
       "      <td>0</td>\n",
       "      <td>0</td>\n",
       "      <td>0</td>\n",
       "      <td>Black - Non-Latino</td>\n",
       "      <td>False</td>\n",
       "      <td>False</td>\n",
       "    </tr>\n",
       "    <tr>\n",
       "      <th>2395</th>\n",
       "      <td>1/24/2014</td>\n",
       "      <td>12:31:00</td>\n",
       "      <td>2100 BLOCK SPRUCE ST</td>\n",
       "      <td>9.0</td>\n",
       "      <td>91</td>\n",
       "      <td>38.0</td>\n",
       "      <td>black</td>\n",
       "      <td>female</td>\n",
       "      <td>vehicular</td>\n",
       "      <td>0</td>\n",
       "      <td>0</td>\n",
       "      <td>0</td>\n",
       "      <td>0</td>\n",
       "      <td>0</td>\n",
       "      <td>Black - Non-Latino</td>\n",
       "      <td>False</td>\n",
       "      <td>False</td>\n",
       "    </tr>\n",
       "    <tr>\n",
       "      <th>2403</th>\n",
       "      <td>1/24/2014</td>\n",
       "      <td>13:00:00</td>\n",
       "      <td>5400 BLOCK SPRUCE ST</td>\n",
       "      <td>18.0</td>\n",
       "      <td>182</td>\n",
       "      <td>45.0</td>\n",
       "      <td>black</td>\n",
       "      <td>male</td>\n",
       "      <td>pedestrian</td>\n",
       "      <td>1</td>\n",
       "      <td>1</td>\n",
       "      <td>1</td>\n",
       "      <td>1</td>\n",
       "      <td>0</td>\n",
       "      <td>Black - Non-Latino</td>\n",
       "      <td>False</td>\n",
       "      <td>False</td>\n",
       "    </tr>\n",
       "    <tr>\n",
       "      <th>2573</th>\n",
       "      <td>1/24/2014</td>\n",
       "      <td>21:20:00</td>\n",
       "      <td>6000 BLOCK SPRUCE ST</td>\n",
       "      <td>18.0</td>\n",
       "      <td>181</td>\n",
       "      <td>21.0</td>\n",
       "      <td>black</td>\n",
       "      <td>male</td>\n",
       "      <td>vehicular</td>\n",
       "      <td>0</td>\n",
       "      <td>0</td>\n",
       "      <td>0</td>\n",
       "      <td>0</td>\n",
       "      <td>0</td>\n",
       "      <td>Black - Non-Latino</td>\n",
       "      <td>False</td>\n",
       "      <td>False</td>\n",
       "    </tr>\n",
       "    <tr>\n",
       "      <th>2857</th>\n",
       "      <td>1/25/2014</td>\n",
       "      <td>19:30:00</td>\n",
       "      <td>5200 BLOCK SPRUCE ST</td>\n",
       "      <td>18.0</td>\n",
       "      <td>182</td>\n",
       "      <td>42.0</td>\n",
       "      <td>black</td>\n",
       "      <td>male</td>\n",
       "      <td>pedestrian</td>\n",
       "      <td>0</td>\n",
       "      <td>0</td>\n",
       "      <td>0</td>\n",
       "      <td>0</td>\n",
       "      <td>0</td>\n",
       "      <td>Black - Non-Latino</td>\n",
       "      <td>False</td>\n",
       "      <td>False</td>\n",
       "    </tr>\n",
       "    <tr>\n",
       "      <th>4079</th>\n",
       "      <td>1/27/2014</td>\n",
       "      <td>21:44:00</td>\n",
       "      <td>1500 BLOCK SPRUCE ST</td>\n",
       "      <td>9.0</td>\n",
       "      <td>91</td>\n",
       "      <td>24.0</td>\n",
       "      <td>white</td>\n",
       "      <td>male</td>\n",
       "      <td>pedestrian</td>\n",
       "      <td>0</td>\n",
       "      <td>0</td>\n",
       "      <td>0</td>\n",
       "      <td>0</td>\n",
       "      <td>0</td>\n",
       "      <td>White - Non-Latino</td>\n",
       "      <td>False</td>\n",
       "      <td>False</td>\n",
       "    </tr>\n",
       "    <tr>\n",
       "      <th>4453</th>\n",
       "      <td>1/28/2014</td>\n",
       "      <td>10:15:00</td>\n",
       "      <td>3800 BLOCK SPRUCE ST</td>\n",
       "      <td>18.0</td>\n",
       "      <td>183</td>\n",
       "      <td>61.0</td>\n",
       "      <td>white</td>\n",
       "      <td>male</td>\n",
       "      <td>vehicular</td>\n",
       "      <td>0</td>\n",
       "      <td>0</td>\n",
       "      <td>0</td>\n",
       "      <td>0</td>\n",
       "      <td>0</td>\n",
       "      <td>White - Non-Latino</td>\n",
       "      <td>False</td>\n",
       "      <td>False</td>\n",
       "    </tr>\n",
       "    <tr>\n",
       "      <th>4590</th>\n",
       "      <td>1/28/2014</td>\n",
       "      <td>12:25:00</td>\n",
       "      <td>4800 BLOCK SPRUCE ST</td>\n",
       "      <td>18.0</td>\n",
       "      <td>183</td>\n",
       "      <td>66.0</td>\n",
       "      <td>black</td>\n",
       "      <td>male</td>\n",
       "      <td>pedestrian</td>\n",
       "      <td>0</td>\n",
       "      <td>0</td>\n",
       "      <td>0</td>\n",
       "      <td>0</td>\n",
       "      <td>0</td>\n",
       "      <td>Black - Non-Latino</td>\n",
       "      <td>False</td>\n",
       "      <td>False</td>\n",
       "    </tr>\n",
       "    <tr>\n",
       "      <th>4944</th>\n",
       "      <td>1/28/2014</td>\n",
       "      <td>18:30:00</td>\n",
       "      <td>5000 BLOCK SPRUCE ST</td>\n",
       "      <td>18.0</td>\n",
       "      <td>182</td>\n",
       "      <td>27.0</td>\n",
       "      <td>white</td>\n",
       "      <td>female</td>\n",
       "      <td>vehicular</td>\n",
       "      <td>0</td>\n",
       "      <td>0</td>\n",
       "      <td>0</td>\n",
       "      <td>0</td>\n",
       "      <td>0</td>\n",
       "      <td>White - Non-Latino</td>\n",
       "      <td>False</td>\n",
       "      <td>False</td>\n",
       "    </tr>\n",
       "    <tr>\n",
       "      <th>4962</th>\n",
       "      <td>1/28/2014</td>\n",
       "      <td>18:40:00</td>\n",
       "      <td>5500 BLOCK SPRUCE ST</td>\n",
       "      <td>18.0</td>\n",
       "      <td>182</td>\n",
       "      <td>25.0</td>\n",
       "      <td>black</td>\n",
       "      <td>female</td>\n",
       "      <td>vehicular</td>\n",
       "      <td>0</td>\n",
       "      <td>0</td>\n",
       "      <td>0</td>\n",
       "      <td>0</td>\n",
       "      <td>0</td>\n",
       "      <td>Black - Non-Latino</td>\n",
       "      <td>False</td>\n",
       "      <td>False</td>\n",
       "    </tr>\n",
       "    <tr>\n",
       "      <th>5373</th>\n",
       "      <td>1/29/2014</td>\n",
       "      <td>0:30:00</td>\n",
       "      <td>6100 BLOCK SPRUCE ST</td>\n",
       "      <td>18.0</td>\n",
       "      <td>181</td>\n",
       "      <td>44.0</td>\n",
       "      <td>white</td>\n",
       "      <td>male</td>\n",
       "      <td>vehicular</td>\n",
       "      <td>1</td>\n",
       "      <td>1</td>\n",
       "      <td>1</td>\n",
       "      <td>1</td>\n",
       "      <td>0</td>\n",
       "      <td>White - Non-Latino</td>\n",
       "      <td>False</td>\n",
       "      <td>False</td>\n",
       "    </tr>\n",
       "    <tr>\n",
       "      <th>5474</th>\n",
       "      <td>1/29/2014</td>\n",
       "      <td>9:05:00</td>\n",
       "      <td>6200 BLOCK SPRUCE ST</td>\n",
       "      <td>18.0</td>\n",
       "      <td>181</td>\n",
       "      <td>31.0</td>\n",
       "      <td>black</td>\n",
       "      <td>male</td>\n",
       "      <td>vehicular</td>\n",
       "      <td>0</td>\n",
       "      <td>0</td>\n",
       "      <td>0</td>\n",
       "      <td>0</td>\n",
       "      <td>0</td>\n",
       "      <td>Black - Non-Latino</td>\n",
       "      <td>False</td>\n",
       "      <td>False</td>\n",
       "    </tr>\n",
       "    <tr>\n",
       "      <th>5676</th>\n",
       "      <td>1/29/2014</td>\n",
       "      <td>14:35:00</td>\n",
       "      <td>5200 BLOCK SPRUCE ST</td>\n",
       "      <td>18.0</td>\n",
       "      <td>182</td>\n",
       "      <td>18.0</td>\n",
       "      <td>black</td>\n",
       "      <td>male</td>\n",
       "      <td>pedestrian</td>\n",
       "      <td>0</td>\n",
       "      <td>0</td>\n",
       "      <td>0</td>\n",
       "      <td>0</td>\n",
       "      <td>0</td>\n",
       "      <td>Black - Non-Latino</td>\n",
       "      <td>False</td>\n",
       "      <td>False</td>\n",
       "    </tr>\n",
       "    <tr>\n",
       "      <th>5805</th>\n",
       "      <td>1/29/2014</td>\n",
       "      <td>17:34:00</td>\n",
       "      <td>5600 BLOCK SPRUCE ST</td>\n",
       "      <td>18.0</td>\n",
       "      <td>182</td>\n",
       "      <td>42.0</td>\n",
       "      <td>white</td>\n",
       "      <td>female</td>\n",
       "      <td>vehicular</td>\n",
       "      <td>0</td>\n",
       "      <td>0</td>\n",
       "      <td>0</td>\n",
       "      <td>0</td>\n",
       "      <td>0</td>\n",
       "      <td>White - Non-Latino</td>\n",
       "      <td>False</td>\n",
       "      <td>False</td>\n",
       "    </tr>\n",
       "    <tr>\n",
       "      <th>6243</th>\n",
       "      <td>1/30/2014</td>\n",
       "      <td>8:10:00</td>\n",
       "      <td>6000 BLOCK SPRUCE ST</td>\n",
       "      <td>18.0</td>\n",
       "      <td>181</td>\n",
       "      <td>33.0</td>\n",
       "      <td>black</td>\n",
       "      <td>female</td>\n",
       "      <td>vehicular</td>\n",
       "      <td>0</td>\n",
       "      <td>0</td>\n",
       "      <td>0</td>\n",
       "      <td>0</td>\n",
       "      <td>0</td>\n",
       "      <td>Black - Non-Latino</td>\n",
       "      <td>False</td>\n",
       "      <td>False</td>\n",
       "    </tr>\n",
       "    <tr>\n",
       "      <th>7834</th>\n",
       "      <td>1/31/2014</td>\n",
       "      <td>23:00:00</td>\n",
       "      <td>5200 BLOCK SPRUCE ST</td>\n",
       "      <td>18.0</td>\n",
       "      <td>182</td>\n",
       "      <td>46.0</td>\n",
       "      <td>black</td>\n",
       "      <td>male</td>\n",
       "      <td>pedestrian</td>\n",
       "      <td>0</td>\n",
       "      <td>0</td>\n",
       "      <td>0</td>\n",
       "      <td>0</td>\n",
       "      <td>0</td>\n",
       "      <td>Black - Non-Latino</td>\n",
       "      <td>False</td>\n",
       "      <td>False</td>\n",
       "    </tr>\n",
       "  </tbody>\n",
       "</table>\n",
       "</div>"
      ],
      "text/plain": [
       "           date      time              location district service_area  \\\n",
       "0      1/1/2014   3:30:00  3400 BLOCK SPRUCE ST     18.0          183   \n",
       "1      1/1/2014   3:40:00  3400 BLOCK SPRUCE ST     18.0          183   \n",
       "158    1/2/2014  23:30:00  5600 BLOCK SPRUCE ST     18.0          182   \n",
       "574   1/10/2014  16:40:00  5500 BLOCK SPRUCE ST     18.0          182   \n",
       "712   1/12/2014   1:29:00  6000 BLOCK SPRUCE ST     18.0          181   \n",
       "716   1/12/2014   2:51:00  5300 BLOCK SPRUCE ST     18.0          182   \n",
       "2168  1/23/2014  11:25:00  5900 BLOCK SPRUCE ST     18.0          181   \n",
       "2312  1/23/2014  22:29:00  5200 BLOCK SPRUCE ST     18.0          182   \n",
       "2395  1/24/2014  12:31:00  2100 BLOCK SPRUCE ST      9.0           91   \n",
       "2403  1/24/2014  13:00:00  5400 BLOCK SPRUCE ST     18.0          182   \n",
       "2573  1/24/2014  21:20:00  6000 BLOCK SPRUCE ST     18.0          181   \n",
       "2857  1/25/2014  19:30:00  5200 BLOCK SPRUCE ST     18.0          182   \n",
       "4079  1/27/2014  21:44:00  1500 BLOCK SPRUCE ST      9.0           91   \n",
       "4453  1/28/2014  10:15:00  3800 BLOCK SPRUCE ST     18.0          183   \n",
       "4590  1/28/2014  12:25:00  4800 BLOCK SPRUCE ST     18.0          183   \n",
       "4944  1/28/2014  18:30:00  5000 BLOCK SPRUCE ST     18.0          182   \n",
       "4962  1/28/2014  18:40:00  5500 BLOCK SPRUCE ST     18.0          182   \n",
       "5373  1/29/2014   0:30:00  6100 BLOCK SPRUCE ST     18.0          181   \n",
       "5474  1/29/2014   9:05:00  6200 BLOCK SPRUCE ST     18.0          181   \n",
       "5676  1/29/2014  14:35:00  5200 BLOCK SPRUCE ST     18.0          182   \n",
       "5805  1/29/2014  17:34:00  5600 BLOCK SPRUCE ST     18.0          182   \n",
       "6243  1/30/2014   8:10:00  6000 BLOCK SPRUCE ST     18.0          181   \n",
       "7834  1/31/2014  23:00:00  5200 BLOCK SPRUCE ST     18.0          182   \n",
       "\n",
       "      subject_age subject_race subject_sex        type  arrest_made  \\\n",
       "0            24.0        black        male  pedestrian            0   \n",
       "1            20.0        black        male  pedestrian            0   \n",
       "158          34.0        black        male   vehicular            0   \n",
       "574          22.0        black        male  pedestrian            1   \n",
       "712          42.0        white        male  pedestrian            0   \n",
       "716          27.0        black        male  pedestrian            0   \n",
       "2168         23.0        black        male  pedestrian            1   \n",
       "2312         27.0        black        male   vehicular            0   \n",
       "2395         38.0        black      female   vehicular            0   \n",
       "2403         45.0        black        male  pedestrian            1   \n",
       "2573         21.0        black        male   vehicular            0   \n",
       "2857         42.0        black        male  pedestrian            0   \n",
       "4079         24.0        white        male  pedestrian            0   \n",
       "4453         61.0        white        male   vehicular            0   \n",
       "4590         66.0        black        male  pedestrian            0   \n",
       "4944         27.0        white      female   vehicular            0   \n",
       "4962         25.0        black      female   vehicular            0   \n",
       "5373         44.0        white        male   vehicular            1   \n",
       "5474         31.0        black        male   vehicular            0   \n",
       "5676         18.0        black        male  pedestrian            0   \n",
       "5805         42.0        white      female   vehicular            0   \n",
       "6243         33.0        black      female   vehicular            0   \n",
       "7834         46.0        black        male  pedestrian            0   \n",
       "\n",
       "      frisk_performed  search_conducted  search_person  search_vehicle  \\\n",
       "0                   0                 0              0               0   \n",
       "1                   0                 0              0               0   \n",
       "158                 1                 0              0               0   \n",
       "574                 1                 1              1               0   \n",
       "712                 0                 0              0               0   \n",
       "716                 0                 0              0               0   \n",
       "2168                1                 0              0               0   \n",
       "2312                0                 0              0               0   \n",
       "2395                0                 0              0               0   \n",
       "2403                1                 1              1               0   \n",
       "2573                0                 0              0               0   \n",
       "2857                0                 0              0               0   \n",
       "4079                0                 0              0               0   \n",
       "4453                0                 0              0               0   \n",
       "4590                0                 0              0               0   \n",
       "4944                0                 0              0               0   \n",
       "4962                0                 0              0               0   \n",
       "5373                1                 1              1               0   \n",
       "5474                0                 0              0               0   \n",
       "5676                0                 0              0               0   \n",
       "5805                0                 0              0               0   \n",
       "6243                0                 0              0               0   \n",
       "7834                0                 0              0               0   \n",
       "\n",
       "                raw_race raw_individual_contraband raw_vehicle_contraband  \n",
       "0     Black - Non-Latino                     False                  False  \n",
       "1     Black - Non-Latino                     False                  False  \n",
       "158   Black - Non-Latino                     False                  False  \n",
       "574   Black - Non-Latino                     False                  False  \n",
       "712   White - Non-Latino                     False                  False  \n",
       "716   Black - Non-Latino                     False                  False  \n",
       "2168  Black - Non-Latino                     False                  False  \n",
       "2312  Black - Non-Latino                     False                  False  \n",
       "2395  Black - Non-Latino                     False                  False  \n",
       "2403  Black - Non-Latino                     False                  False  \n",
       "2573  Black - Non-Latino                     False                  False  \n",
       "2857  Black - Non-Latino                     False                  False  \n",
       "4079  White - Non-Latino                     False                  False  \n",
       "4453  White - Non-Latino                     False                  False  \n",
       "4590  Black - Non-Latino                     False                  False  \n",
       "4944  White - Non-Latino                     False                  False  \n",
       "4962  Black - Non-Latino                     False                  False  \n",
       "5373  White - Non-Latino                     False                  False  \n",
       "5474  Black - Non-Latino                     False                  False  \n",
       "5676  Black - Non-Latino                     False                  False  \n",
       "5805  White - Non-Latino                     False                  False  \n",
       "6243  Black - Non-Latino                     False                  False  \n",
       "7834  Black - Non-Latino                     False                  False  "
      ]
     },
     "execution_count": 29,
     "metadata": {},
     "output_type": "execute_result"
    }
   ],
   "source": [
    "df[df.location.str.contains('BLOCK SPRUCE')]"
   ]
  },
  {
   "cell_type": "code",
   "execution_count": 30,
   "metadata": {},
   "outputs": [],
   "source": [
    "df['date'] = df.date.str.replace('/','-')\n",
    "df['date_time'] = df[['date','time']].agg(' '.join, axis =1)"
   ]
  },
  {
   "cell_type": "code",
   "execution_count": 31,
   "metadata": {},
   "outputs": [
    {
     "data": {
      "text/plain": [
       "0    1-1-2014 3:30:00\n",
       "1    1-1-2014 3:40:00\n",
       "2    1-1-2014 8:30:00\n",
       "3    1-1-2014 8:53:00\n",
       "4    1-1-2014 9:00:00\n",
       "Name: date_time, dtype: object"
      ]
     },
     "execution_count": 31,
     "metadata": {},
     "output_type": "execute_result"
    }
   ],
   "source": [
    "df['date_time'].head()"
   ]
  },
  {
   "cell_type": "code",
   "execution_count": 32,
   "metadata": {},
   "outputs": [],
   "source": [
    "df['date_time'] = pd.to_datetime(df['date_time'],infer_datetime_format=True)"
   ]
  },
  {
   "cell_type": "code",
   "execution_count": 36,
   "metadata": {},
   "outputs": [],
   "source": [
    "from datetime import date as dt"
   ]
  },
  {
   "cell_type": "code",
   "execution_count": 38,
   "metadata": {},
   "outputs": [],
   "source": [
    "df.set_index('date_time',inplace = True)"
   ]
  },
  {
   "cell_type": "code",
   "execution_count": 41,
   "metadata": {},
   "outputs": [
    {
     "data": {
      "text/plain": [
       "Int64Index([ 1,  1,  1,  1,  1,  1,  1,  1,  1,  1,\n",
       "            ...\n",
       "            31, 31, 31, 31, 31, 31, 31, 31, 31, 31],\n",
       "           dtype='int64', name='date_time', length=7899)"
      ]
     },
     "execution_count": 41,
     "metadata": {},
     "output_type": "execute_result"
    }
   ],
   "source": [
    "df.index.day"
   ]
  },
  {
   "cell_type": "code",
   "execution_count": 98,
   "metadata": {},
   "outputs": [],
   "source": [
    "import matplotlib.ticker as mtick"
   ]
  },
  {
   "cell_type": "code",
   "execution_count": 99,
   "metadata": {},
   "outputs": [],
   "source": [
    "daily_arrest = df.groupby(df.index.day).arrest_made.mean()"
   ]
  },
  {
   "cell_type": "code",
   "execution_count": 135,
   "metadata": {},
   "outputs": [
    {
     "data": {
      "image/png": "[encoded data removed]",
      "text/plain": [
       "<Figure size 864x432 with 1 Axes>"
      ]
     },
     "metadata": {
      "needs_background": "light"
     },
     "output_type": "display_data"
    }
   ],
   "source": [
    "ax = daily_arrest.sort_values().plot(kind = 'bar', figsize = (12,6))\n",
    "ax.yaxis.set_major_formatter(mtick.PercentFormatter(1.0))\n",
    "plt.xlabel('Date')\n",
    "plt.ylabel('Mean of arrested people')\n",
    "plt.title('People arrested on different days in January 2014')\n",
    "plt.show()"
   ]
  },
  {
   "cell_type": "code",
   "execution_count": 43,
   "metadata": {},
   "outputs": [],
   "source": [
    "sunday = df[df.index.weekday == 6] #weekday 6 is sunday in datetime module\n",
    "saturday = df[df.index.weekday == 5]"
   ]
  },
  {
   "cell_type": "code",
   "execution_count": 44,
   "metadata": {},
   "outputs": [
    {
     "data": {
      "text/plain": [
       "30"
      ]
     },
     "execution_count": 44,
     "metadata": {},
     "output_type": "execute_result"
    }
   ],
   "source": [
    "sunday.arrest_made.sum()"
   ]
  },
  {
   "cell_type": "code",
   "execution_count": 45,
   "metadata": {},
   "outputs": [
    {
     "data": {
      "text/plain": [
       "42"
      ]
     },
     "execution_count": 45,
     "metadata": {},
     "output_type": "execute_result"
    }
   ],
   "source": [
    "saturday.arrest_made.sum()"
   ]
  },
  {
   "cell_type": "code",
   "execution_count": 46,
   "metadata": {},
   "outputs": [
    {
     "data": {
      "text/plain": [
       "460"
      ]
     },
     "execution_count": 46,
     "metadata": {},
     "output_type": "execute_result"
    }
   ],
   "source": [
    "df.arrest_made.sum()"
   ]
  },
  {
   "cell_type": "code",
   "execution_count": 84,
   "metadata": {},
   "outputs": [],
   "source": [
    "male_frisk = df[(df.subject_sex == 'male') & (df.frisk_performed == 1)]"
   ]
  },
  {
   "cell_type": "code",
   "execution_count": 103,
   "metadata": {},
   "outputs": [],
   "source": [
    "race_frisk = male_frisk.subject_race.value_counts(normalize = True)"
   ]
  },
  {
   "cell_type": "code",
   "execution_count": 118,
   "metadata": {},
   "outputs": [
    {
     "data": {
      "image/png": "[encoded data removed]",
      "text/plain": [
       "<Figure size 864x288 with 1 Axes>"
      ]
     },
     "metadata": {
      "needs_background": "light"
     },
     "output_type": "display_data"
    }
   ],
   "source": [
    "ax1 = race_frisk.plot(kind = 'bar', figsize = (12,4))\n",
    "ax1.yaxis.set_major_formatter(mtick.PercentFormatter(1.0))\n",
    "plt.xticks(rotation=0)\n",
    "plt.xlabel('Race')\n",
    "plt.ylabel('% of male on which frisk was performed')\n",
    "plt.title('Frisk perfomed on male')\n",
    "plt.show()"
   ]
  },
  {
   "cell_type": "code",
   "execution_count": 121,
   "metadata": {},
   "outputs": [],
   "source": [
    "table = pd.crosstab(df.subject_race,\n",
    "            df.subject_sex)"
   ]
  },
  {
   "cell_type": "code",
   "execution_count": 122,
   "metadata": {},
   "outputs": [
    {
     "data": {
      "text/html": [
       "<div>\n",
       "<style scoped>\n",
       "    .dataframe tbody tr th:only-of-type {\n",
       "        vertical-align: middle;\n",
       "    }\n",
       "\n",
       "    .dataframe tbody tr th {\n",
       "        vertical-align: top;\n",
       "    }\n",
       "\n",
       "    .dataframe thead th {\n",
       "        text-align: right;\n",
       "    }\n",
       "</style>\n",
       "<table border=\"1\" class=\"dataframe\">\n",
       "  <thead>\n",
       "    <tr style=\"text-align: right;\">\n",
       "      <th>subject_sex</th>\n",
       "      <th>female</th>\n",
       "      <th>male</th>\n",
       "    </tr>\n",
       "    <tr>\n",
       "      <th>subject_race</th>\n",
       "      <th></th>\n",
       "      <th></th>\n",
       "    </tr>\n",
       "  </thead>\n",
       "  <tbody>\n",
       "    <tr>\n",
       "      <th>asian/pacific islander</th>\n",
       "      <td>33</td>\n",
       "      <td>132</td>\n",
       "    </tr>\n",
       "    <tr>\n",
       "      <th>black</th>\n",
       "      <td>1066</td>\n",
       "      <td>4435</td>\n",
       "    </tr>\n",
       "    <tr>\n",
       "      <th>hispanic</th>\n",
       "      <td>151</td>\n",
       "      <td>530</td>\n",
       "    </tr>\n",
       "    <tr>\n",
       "      <th>other</th>\n",
       "      <td>6</td>\n",
       "      <td>20</td>\n",
       "    </tr>\n",
       "    <tr>\n",
       "      <th>unknown</th>\n",
       "      <td>6</td>\n",
       "      <td>23</td>\n",
       "    </tr>\n",
       "    <tr>\n",
       "      <th>white</th>\n",
       "      <td>413</td>\n",
       "      <td>1084</td>\n",
       "    </tr>\n",
       "  </tbody>\n",
       "</table>\n",
       "</div>"
      ],
      "text/plain": [
       "subject_sex             female  male\n",
       "subject_race                        \n",
       "asian/pacific islander      33   132\n",
       "black                     1066  4435\n",
       "hispanic                   151   530\n",
       "other                        6    20\n",
       "unknown                      6    23\n",
       "white                      413  1084"
      ]
     },
     "execution_count": 122,
     "metadata": {},
     "output_type": "execute_result"
    }
   ],
   "source": [
    "table"
   ]
  },
  {
   "cell_type": "code",
   "execution_count": 136,
   "metadata": {},
   "outputs": [
    {
     "data": {
      "image/png": "[encoded data removed]",
      "text/plain": [
       "<Figure size 576x288 with 1 Axes>"
      ]
     },
     "metadata": {
      "needs_background": "light"
     },
     "output_type": "display_data"
    }
   ],
   "source": [
    "table.plot(kind = 'barh',figsize = (8,4))\n",
    "plt.show()"
   ]
  },
  {
   "cell_type": "code",
   "execution_count": null,
   "metadata": {},
   "outputs": [],
   "source": []
  }
 ],
 "metadata": {
  "kernelspec": {
   "display_name": "Python 3",
   "language": "python",
   "name": "python3"
  },
  "language_info": {
   "codemirror_mode": {
    "name": "ipython",
    "version": 3
   },
   "file_extension": ".py",
   "mimetype": "text/x-python",
   "name": "python",
   "nbconvert_exporter": "python",
   "pygments_lexer": "ipython3",
   "version": "3.7.5"
  }
 },
 "nbformat": 4,
 "nbformat_minor": 4
}
